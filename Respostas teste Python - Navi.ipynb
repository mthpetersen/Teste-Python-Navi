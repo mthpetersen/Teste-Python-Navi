{
 "cells": [
  {
   "cell_type": "markdown",
   "metadata": {},
   "source": [
    "## Exercício 1"
   ]
  },
  {
   "cell_type": "code",
   "execution_count": 1,
   "metadata": {},
   "outputs": [
    {
     "name": "stdout",
     "output_type": "stream",
     "text": [
      "Existem 1378 números pares, multiplos de 49 e multiplos de 37 simultaneamente entre 1 e 5 milhoes\n"
     ]
    }
   ],
   "source": [
    "count = -1 # O contador começa em -1 para descontar o zero.\n",
    "x=[]\n",
    "for i in range(0,5000000,49): #Para limitar o número de cálculos, utilizamos passo de 49.\n",
    "    if i%2 == 0:\n",
    "        if i%37 == 0:\n",
    "            count += 1\n",
    "            x.append(i)\n",
    "\n",
    "print (\"Existem \" + str(count) + \" números pares, multiplos de 49 e multiplos de 37 simultaneamente entre 1 e 5 milhoes\")"
   ]
  },
  {
   "cell_type": "markdown",
   "metadata": {},
   "source": [
    "## Exercício 2"
   ]
  },
  {
   "cell_type": "code",
   "execution_count": 2,
   "metadata": {},
   "outputs": [
    {
     "name": "stdout",
     "output_type": "stream",
     "text": [
      "O maior valor desse vetor é 288801 que esta na posição i = 8. A média dos elementos é igual a 29555.94\n"
     ]
    }
   ],
   "source": [
    "from math import factorial, log\n",
    "from numpy import mean\n",
    "\n",
    "x = []\n",
    "for i in range(10):\n",
    "    if i%2 == 0 :\n",
    "        x.append(3**i+7*factorial(i))\n",
    "    else :\n",
    "        x.append(2**i+4*log(i))\n",
    "\n",
    "print (\"O maior valor desse vetor é \" + str(max(x)) + \" que esta na posição i = \" + str(x.index(max(x))) + \". A média dos elementos é igual a \" + str(round(mean(x),2)))"
   ]
  },
  {
   "cell_type": "markdown",
   "metadata": {},
   "source": [
    "## Exercício 3"
   ]
  },
  {
   "cell_type": "code",
   "execution_count": 3,
   "metadata": {},
   "outputs": [
    {
     "name": "stdout",
     "output_type": "stream",
     "text": [
      "Nome do aluno 1: A\n",
      "Nota do A: 8\n",
      "Nome do aluno 2: B\n",
      "Nota do B: 9\n",
      "Nome do aluno 3: C\n",
      "Nota do C: 6\n",
      "Nome do aluno 4: D\n",
      "Nota do D: 7\n",
      "Nome do aluno 5: E\n",
      "Nota do E: 9\n",
      "O(s) aluno(s) com a melhor nota é(são) : B, E, com a nota 9\n"
     ]
    }
   ],
   "source": [
    "notas = {}\n",
    "for i in range(5):\n",
    "    nome = input('Nome do aluno '+ str(i+1)+ ': ')\n",
    "    nota = int(input('Nota do ' + str(nome)+ ': '))\n",
    "    notas[nome] = nota\n",
    "    \n",
    "resposta = \"O(s) aluno(s) com a melhor nota é(são) : \"\n",
    "for k,v in notas.items():\n",
    "    if v == notas[max(notas, key=notas.get)]:\n",
    "        resposta += str(k) + ', '\n",
    "resposta += \"com a nota \" +str(notas[max(notas, key=notas.get)])\n",
    "\n",
    "print(resposta)"
   ]
  }
 ],
 "metadata": {
  "kernelspec": {
   "display_name": "Python 3",
   "language": "python",
   "name": "python3"
  },
  "language_info": {
   "codemirror_mode": {
    "name": "ipython",
    "version": 3
   },
   "file_extension": ".py",
   "mimetype": "text/x-python",
   "name": "python",
   "nbconvert_exporter": "python",
   "pygments_lexer": "ipython3",
   "version": "3.6.4"
  }
 },
 "nbformat": 4,
 "nbformat_minor": 2
}
